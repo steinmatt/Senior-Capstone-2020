{
 "cells": [
  {
   "cell_type": "code",
   "execution_count": 70,
   "metadata": {},
   "outputs": [],
   "source": [
    "import serial \n",
    "import numpy as np \n",
    "import pandas as pd \n",
    "import time\n",
    "from PIL import Image "
   ]
  },
  {
   "cell_type": "markdown",
   "metadata": {},
   "source": [
    "First create the serial connection and open it.  "
   ]
  },
  {
   "cell_type": "code",
   "execution_count": 71,
   "metadata": {},
   "outputs": [],
   "source": [
    "port = \"/dev/cu.usbserial-AL03XDEJ\"\n",
    "baud = 115200\n",
    "  \n",
    "ser = serial.Serial(port, baud, timeout=1)\n",
    "ser.bytesize = serial.EIGHTBITS #number of bits per bytes\n",
    "ser.parity = serial.PARITY_NONE #set parity check: no parity\n",
    "ser.stopbits = serial.STOPBITS_ONE # set # of stop bits: 1 "
   ]
  },
  {
   "cell_type": "markdown",
   "metadata": {},
   "source": [
    "Then create the data that we will be transmitting "
   ]
  },
  {
   "cell_type": "code",
   "execution_count": 72,
   "metadata": {},
   "outputs": [],
   "source": [
    "s = [ \"this\", \"is\", \"a\", \"test\", \"transmission\", \".\", \"if\", \"all\" \"goes\", \"well\", \",\",\"you\",\"will\", \"see\", \"the\", \"green\", \"light\", \"flash\", \"a\", \"few\",\"times\"]"
   ]
  },
  {
   "cell_type": "markdown",
   "metadata": {},
   "source": [
    "Now set the transciever to be in PIPE transmit mode. Read and print all responses from the transciever."
   ]
  },
  {
   "cell_type": "code",
   "execution_count": 73,
   "metadata": {},
   "outputs": [
    {
     "name": "stdout",
     "output_type": "stream",
     "text": [
      "Receiving... OK+0022503303\r\n"
     ]
    }
   ],
   "source": [
    "read_register = 'ES+R2200' \n",
    "message = read_register + '\\r\\n'\n",
    "\n",
    "# First read the status control register \n",
    "ser.write(message.encode('ascii'))\n",
    "ret = ser.read(size=30)\n",
    "print('Receiving...', ret.decode('ascii'))\n"
   ]
  },
  {
   "cell_type": "code",
   "execution_count": 74,
   "metadata": {},
   "outputs": [
    {
     "name": "stdout",
     "output_type": "stream",
     "text": [
      "Receiving... OK+3323\r\n"
     ]
    }
   ],
   "source": [
    "# Second, write to the register \n",
    "write_register = \"ES+W22003323\"\n",
    "message = write_register + '\\r\\n'\n",
    "\n",
    "# First read the status control register \n",
    "ser.write(message.encode('ascii'))\n",
    "ret = ser.read(size=30)\n",
    "print('Receiving...', ret.decode('ascii'))"
   ]
  },
  {
   "cell_type": "markdown",
   "metadata": {},
   "source": [
    "Now the transceiver is in transmission mode. Test this by checking for the green light when transmitting and running the following transmission sequence. You will transmit multiple times at two second intervals. You should see the green light flash at each 2 second intervals, signaling a transmission. \n",
    "\n",
    "__NOTE:__ The green light is on the transceiver, on the opposite side of where you plug in the USB port. "
   ]
  },
  {
   "cell_type": "code",
   "execution_count": 75,
   "metadata": {},
   "outputs": [],
   "source": [
    "for i in s: \n",
    "    message = i + '\\r\\n'\n",
    "    ser.write(message.encode('ascii'))\n",
    "    time.sleep(2)"
   ]
  },
  {
   "cell_type": "markdown",
   "metadata": {},
   "source": [
    "Great! You should have seen the green transmission light blink at 2 second intervals. Now, for the sake of seeing what happens, we will see the tranmsission output *without* a two second delay"
   ]
  },
  {
   "cell_type": "code",
   "execution_count": 76,
   "metadata": {},
   "outputs": [],
   "source": [
    "for i in s: \n",
    "    message = i + '\\r\\n'\n",
    "    ser.write(message.encode('ascii'))"
   ]
  },
  {
   "cell_type": "markdown",
   "metadata": {},
   "source": [
    "Notice how fast of a transmission that was? Each phrase in s above was a different transmission packet, however, it was extrememly fast. That's good. "
   ]
  },
  {
   "cell_type": "markdown",
   "metadata": {},
   "source": [
    "Now, before we close the transceiver. We should always restore the orginal Status Control Register state with the ESTTC commands. The original state is always 3303. \n",
    "\n",
    "Thus, the command to return to original state is ES+W22003303 "
   ]
  },
  {
   "cell_type": "code",
   "execution_count": 77,
   "metadata": {},
   "outputs": [
    {
     "name": "stdout",
     "output_type": "stream",
     "text": [
      "Receiving... \n"
     ]
    }
   ],
   "source": [
    "# Second, write to the register \n",
    "ret_register = \"ES+W22003303\"\n",
    "message = ret_register + '\\r\\n'\n",
    "\n",
    "# First read the status control register \n",
    "ser.write(message.encode('ascii'))\n",
    "ret = ser.read(size=30)\n",
    "print('Receiving...', ret.decode('ascii'))"
   ]
  },
  {
   "cell_type": "markdown",
   "metadata": {},
   "source": [
    "Finally, we close the serial port connection! Tutorial finished. "
   ]
  },
  {
   "cell_type": "code",
   "execution_count": 78,
   "metadata": {},
   "outputs": [],
   "source": [
    "ser.close()"
   ]
  },
  {
   "cell_type": "code",
   "execution_count": null,
   "metadata": {},
   "outputs": [],
   "source": []
  }
 ],
 "metadata": {
  "kernelspec": {
   "display_name": "Python 3",
   "language": "python",
   "name": "python3"
  },
  "language_info": {
   "codemirror_mode": {
    "name": "ipython",
    "version": 3
   },
   "file_extension": ".py",
   "mimetype": "text/x-python",
   "name": "python",
   "nbconvert_exporter": "python",
   "pygments_lexer": "ipython3",
   "version": "3.7.6"
  }
 },
 "nbformat": 4,
 "nbformat_minor": 4
}
