{
 "cells": [
  {
   "cell_type": "code",
   "execution_count": 104,
   "metadata": {},
   "outputs": [],
   "source": [
    "import serial \n",
    "import numpy as np \n",
    "import pandas as pd \n",
    "import time\n",
    "from PIL import Image "
   ]
  },
  {
   "cell_type": "markdown",
   "metadata": {},
   "source": [
    "First create the serial connection and open it.  "
   ]
  },
  {
   "cell_type": "code",
   "execution_count": 105,
   "metadata": {},
   "outputs": [],
   "source": [
    "port = \"/dev/cu.usbserial-AL03XDEJ\"                              \n",
    "baud = 115200\n",
    "  \n",
    "ser = serial.Serial(port, baud, timeout=1)\n",
    "ser.bytesize = serial.EIGHTBITS #number of bits per bytes\n",
    "ser.parity = serial.PARITY_NONE #set parity check: no parity\n",
    "ser.stopbits = serial.STOPBITS_ONE # set # of stop bits: 1 "
   ]
  },
  {
   "cell_type": "markdown",
   "metadata": {},
   "source": [
    " First, read the status of the transciever and print all responses from the transciever."
   ]
  },
  {
   "cell_type": "code",
   "execution_count": 106,
   "metadata": {},
   "outputs": [
    {
     "name": "stdout",
     "output_type": "stream",
     "text": [
      "Receiving... OK+0022503303\r\n"
     ]
    }
   ],
   "source": [
    "read_register = 'ES+R2200' \n",
    "message = read_register + '\\r\\n'\n",
    "\n",
    "# First read the status control register \n",
    "ser.write(message.encode('ascii'))\n",
    "ret = ser.read(size=30)\n",
    "print('Receiving...', ret.decode('ascii'))\n"
   ]
  },
  {
   "cell_type": "markdown",
   "metadata": {},
   "source": [
    "Before setting the transciever in transmit mode, we want to set the reciever to have a PIPE Timeout setting. This essentially turns off pipe mode if a transmission does not get commanded within that timeframe "
   ]
  },
  {
   "cell_type": "code",
   "execution_count": 107,
   "metadata": {},
   "outputs": [
    {
     "name": "stdout",
     "output_type": "stream",
     "text": [
      "Receiving... OK\r\n"
     ]
    }
   ],
   "source": [
    "# Second, write to the register \n",
    "write_register = \"ES+W220600000020\"\n",
    "message = write_register + '\\r\\n'\n",
    "\n",
    "\n",
    "ser.write(message.encode('ascii'))\n",
    "ret = ser.read(size=30)\n",
    "print('Receiving...', ret.decode('ascii'))"
   ]
  },
  {
   "cell_type": "markdown",
   "metadata": {},
   "source": [
    "__Note: This sets the tranmission timeout time to 32 seconds, meaning that if you don't send a transmit message for 32 seconds, the PIPE mode will timeout.__ Now turn on pipe transmit and transmit "
   ]
  },
  {
   "cell_type": "code",
   "execution_count": 108,
   "metadata": {},
   "outputs": [
    {
     "name": "stdout",
     "output_type": "stream",
     "text": [
      "Receiving... OK+3323\r\n"
     ]
    }
   ],
   "source": [
    "# Third, write to the register \n",
    "write_register = \"ES+W22003323\"\n",
    "message = write_register + '\\r\\n'\n",
    "\n",
    "\n",
    "ser.write(message.encode('ascii'))\n",
    "ret = ser.read(size=30)\n",
    "print('Receiving...', ret.decode('ascii'))"
   ]
  },
  {
   "cell_type": "markdown",
   "metadata": {},
   "source": [
    "Now the transceiver is in transmission mode. __NOTE: Now we are going to transmit. Please make sure that the recieve station is ready for reception and ready to record the signal before transmitting__ "
   ]
  },
  {
   "cell_type": "markdown",
   "metadata": {},
   "source": [
    "First we need to import the image and prep it. Prepping it means that we prepare it as ascii data. "
   ]
  },
  {
   "cell_type": "code",
   "execution_count": 109,
   "metadata": {},
   "outputs": [],
   "source": [
    "with open(\"sample-picture.jpg\", \"rb\") as image: \n",
    "    temp = image.read()\n",
    "    data = bytearray(temp)"
   ]
  },
  {
   "cell_type": "markdown",
   "metadata": {},
   "source": [
    "Now lets split the data into 108 byte packet sizes. "
   ]
  },
  {
   "cell_type": "code",
   "execution_count": 110,
   "metadata": {},
   "outputs": [],
   "source": [
    "all_data = [] \n",
    "for i in range(0,len(data), 108):\n",
    "    packet = data[i:i+108]\n",
    "    all_data.append(packet)"
   ]
  },
  {
   "cell_type": "markdown",
   "metadata": {},
   "source": [
    "Now we must transmit the image, packet by packet. "
   ]
  },
  {
   "cell_type": "code",
   "execution_count": 112,
   "metadata": {},
   "outputs": [
    {
     "name": "stdout",
     "output_type": "stream",
     "text": [
      "5.6819398403167725\n"
     ]
    }
   ],
   "source": [
    "start = time.time()\n",
    "for i in all_data: \n",
    "    message = i\n",
    "    ser.write(message)\n",
    "end = time.time()\n",
    "print(end - start)"
   ]
  },
  {
   "cell_type": "markdown",
   "metadata": {},
   "source": [
    "Now, before we close the transceiver. We should always restore the orginal Status Control Register state with the ESTTC commands. The original state is always 3303. \n",
    "\n",
    "Thus, the command to return to original state is ES+W22003303 "
   ]
  },
  {
   "cell_type": "code",
   "execution_count": 84,
   "metadata": {},
   "outputs": [
    {
     "name": "stdout",
     "output_type": "stream",
     "text": [
      "Receiving... +ESTTC CFB52D35\r",
      "OK+3303\r\n"
     ]
    }
   ],
   "source": [
    "# Second, write to the register \n",
    "ret_register = \"ES+W22003303\"\n",
    "message = ret_register + '\\r\\n'\n",
    "\n",
    "# First read the status control register \n",
    "ser.write(message.encode('ascii'))\n",
    "ret = ser.read(size=30)\n",
    "print('Receiving...', ret.decode('ascii'))"
   ]
  },
  {
   "cell_type": "markdown",
   "metadata": {},
   "source": [
    "Finally, we close the serial port connection! Tutorial finished. "
   ]
  },
  {
   "cell_type": "code",
   "execution_count": 41,
   "metadata": {},
   "outputs": [],
   "source": [
    "ser.close()"
   ]
  },
  {
   "cell_type": "code",
   "execution_count": null,
   "metadata": {},
   "outputs": [],
   "source": []
  }
 ],
 "metadata": {
  "kernelspec": {
   "display_name": "Python 3",
   "language": "python",
   "name": "python3"
  },
  "language_info": {
   "codemirror_mode": {
    "name": "ipython",
    "version": 3
   },
   "file_extension": ".py",
   "mimetype": "text/x-python",
   "name": "python",
   "nbconvert_exporter": "python",
   "pygments_lexer": "ipython3",
   "version": "3.7.6"
  }
 },
 "nbformat": 4,
 "nbformat_minor": 4
}
