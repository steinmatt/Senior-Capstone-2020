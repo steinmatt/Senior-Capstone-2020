{
 "cells": [
  {
   "cell_type": "code",
   "execution_count": 1,
   "metadata": {},
   "outputs": [],
   "source": [
    "import serial \n",
    "import numpy as np \n",
    "import pandas as pd \n",
    "from PIL import Image "
   ]
  },
  {
   "cell_type": "code",
   "execution_count": 12,
   "metadata": {},
   "outputs": [],
   "source": [
    "ser = serial.Serial() \n",
    "ser.baudrate = 115200 \n",
    "ser.port = \"/dev/cu.usbserial-AL03XDEJ\"\n",
    "ser.bytesize = serial.EIGHTBITS #number of bits per bytes\n",
    "ser.parity = serial.PARITY_NONE #set parity check: no parity\n",
    "ser.stopbits = serial.STOPBITS_ONE # set # of stop bits: 1 \n"
   ]
  },
  {
   "cell_type": "code",
   "execution_count": 3,
   "metadata": {},
   "outputs": [],
   "source": [
    "s = np.ones(15)"
   ]
  },
  {
   "cell_type": "code",
   "execution_count": null,
   "metadata": {},
   "outputs": [],
   "source": [
    "import serial\n",
    "  \n",
    "port = \"/dev/cu.usbserial-AL03XDEJ\"\n",
    "baud = 115200\n",
    "  \n",
    "ser = serial.Serial(port, baud, timeout=1)\n",
    "    # open the serial port\n",
    "if ser.isOpen():\n",
    "     print(ser.name + ' is open...')\n",
    "  \n",
    "while True:\n",
    "    #cmd = raw_input(\"Enter command or 'exit':\")\n",
    "        # for Python 2\n",
    "    cmd = input(\"Enter command or 'exit':\")\n",
    "        # for Python 3\n",
    "    if cmd == 'exit':\n",
    "        ser.close()\n",
    "        exit()\n",
    "    else:\n",
    "        cmd = cmd + '\\r'\n",
    "        ser.write(cmd.encode())\n",
    "        out = ser.read()\n",
    "        print('Receiving...', out)"
   ]
  },
  {
   "cell_type": "code",
   "execution_count": null,
   "metadata": {},
   "outputs": [],
   "source": []
  },
  {
   "cell_type": "code",
   "execution_count": null,
   "metadata": {},
   "outputs": [],
   "source": []
  }
 ],
 "metadata": {
  "kernelspec": {
   "display_name": "Python 3",
   "language": "python",
   "name": "python3"
  },
  "language_info": {
   "codemirror_mode": {
    "name": "ipython",
    "version": 3
   },
   "file_extension": ".py",
   "mimetype": "text/x-python",
   "name": "python",
   "nbconvert_exporter": "python",
   "pygments_lexer": "ipython3",
   "version": "3.7.6"
  }
 },
 "nbformat": 4,
 "nbformat_minor": 4
}
